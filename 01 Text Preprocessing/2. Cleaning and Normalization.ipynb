{
 "cells": [
  {
   "cell_type": "markdown",
   "metadata": {},
   "source": [
    "+ Cleaning : 갖고 있는 corpus로부터 noise 제거\n",
    "+ Normalization : 표현 방법이 다른 단어들을 통합시켜서 같은 단어로 만들어 줌\n",
    "\n",
    "### 1. 규칙에 기반한 표기가 다른 단어들의 통합\n",
    "    ex) USA와 US\n",
    "\n",
    "### 2. 대, 소문자 통합\n",
    "    전부 소문자? 일부만 소문자?\n",
    "\n",
    "### 3. 불필요한 단어의 제거\n",
    "#### (1) 등장 빈도가 적은 단어\n",
    "#### (2) 길이가 짧은 단어\n",
    "    영어 단어 평균 길이 : 6~7자\n",
    "    한국어 단어 평균 길이 : 2~3자\n",
    "    영어권 언어에서는 길이가 짧은 단어를 삭제하는 것만으로도 의미없는 단어를 제거하는 효과를 어느 정도 볼 수 있다"
   ]
  }
 ],
 "metadata": {
  "kernelspec": {
   "display_name": "Python 3",
   "language": "python",
   "name": "python3"
  },
  "language_info": {
   "codemirror_mode": {
    "name": "ipython",
    "version": 3
   },
   "file_extension": ".py",
   "mimetype": "text/x-python",
   "name": "python",
   "nbconvert_exporter": "python",
   "pygments_lexer": "ipython3",
   "version": "3.8.3"
  }
 },
 "nbformat": 4,
 "nbformat_minor": 4
}

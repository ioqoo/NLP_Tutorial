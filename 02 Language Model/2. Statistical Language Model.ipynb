{
 "cells": [
  {
   "cell_type": "markdown",
   "metadata": {},
   "source": [
    "#### Chain Rule for Conditional Probability"
   ]
  },
  {
   "cell_type": "markdown",
   "metadata": {},
   "source": [
    "$ P(x_1 \\, , \\, x_2 \\, , \\, ... \\, , \\, x_n ) = P(x_1) P(x_2 | x_1) P(x_3 | x_1 \\, , \\, x_2 ) ... P(x_n | x_1 \\, , \\, ... \\, , x_{n-1}) $"
   ]
  },
  {
   "cell_type": "markdown",
   "metadata": {},
   "source": [
    "$ P(\\rm{An \\, adorable \\, little \\, boy \\, is \\, spreading \\, smiles}) $\n",
    "$ = P(\\rm{An}) \\, \\times \\, P(\\rm{adorable} | \\rm{An}) \\, \\times \\, ... \\, P(\\rm{smiles} | \\rm{An \\, adorable \\, little \\, boy \\, is \\, spreading}) $"
   ]
  },
  {
   "cell_type": "markdown",
   "metadata": {},
   "source": [
    "#### 카운트 기반의 접근"
   ]
  },
  {
   "cell_type": "markdown",
   "metadata": {},
   "source": [
    "$ P(\\rm{is} | \\rm{An \\, adorable \\, little \\, boy}) = \\frac{\\rm{count(An \\, adorable \\, little \\, boy \\, is)}} {\\rm{count(An \\, adorable \\, little \\, boy)}}\\ $"
   ]
  },
  {
   "cell_type": "markdown",
   "metadata": {},
   "source": [
    "+ 데이터의 부족으로 인한 sparstiy problem으로 언어 모델의 트렌드가 SLM에서 인공 신경망 언어 모델로 넘어가게 됨"
   ]
  }
 ],
 "metadata": {
  "kernelspec": {
   "display_name": "Python 3",
   "language": "python",
   "name": "python3"
  },
  "language_info": {
   "codemirror_mode": {
    "name": "ipython",
    "version": 3
   },
   "file_extension": ".py",
   "mimetype": "text/x-python",
   "name": "python",
   "nbconvert_exporter": "python",
   "pygments_lexer": "ipython3",
   "version": "3.8.3"
  }
 },
 "nbformat": 4,
 "nbformat_minor": 4
}

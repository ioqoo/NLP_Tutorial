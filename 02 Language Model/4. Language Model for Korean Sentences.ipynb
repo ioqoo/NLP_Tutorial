{
 "cells": [
  {
   "cell_type": "markdown",
   "metadata": {},
   "source": [
    "#### 어순이 중요하지 않은 한국어  \n",
    "\n",
    "+ 나는 운동을 합니다 체육관에서  \n",
    "+ 나는 체육관에서 운동을 합니다  \n",
    "+ 체육관에서 운동을 합니다  \n",
    "+ 나는 운동을 체육관에서 합니다"
   ]
  },
  {
   "cell_type": "code",
   "execution_count": null,
   "metadata": {},
   "outputs": [],
   "source": []
  }
 ],
 "metadata": {
  "kernelspec": {
   "display_name": "Python 3",
   "language": "python",
   "name": "python3"
  },
  "language_info": {
   "codemirror_mode": {
    "name": "ipython",
    "version": 3
   },
   "file_extension": ".py",
   "mimetype": "text/x-python",
   "name": "python",
   "nbconvert_exporter": "python",
   "pygments_lexer": "ipython3",
   "version": "3.8.3"
  }
 },
 "nbformat": 4,
 "nbformat_minor": 4
}

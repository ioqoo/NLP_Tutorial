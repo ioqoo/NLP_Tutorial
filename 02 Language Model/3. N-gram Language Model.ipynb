{
 "cells": [
  {
   "cell_type": "markdown",
   "metadata": {},
   "source": [
    "+ SLM의 일종이지만 이전에 등장한 모든 단어를 고려하는 것이 아닌 일부 단어만 고려하는 접근 방법을 사용"
   ]
  },
  {
   "cell_type": "markdown",
   "metadata": {},
   "source": [
    "$ P(\\rm{is|An \\, adorable \\, little \\, boy}) \\approx P(\\rm{is|boy}) $  \n",
    "$ P(\\rm{is|An \\, adorable \\, little \\, boy}) \\approx P(\\rm{is|little \\, boy}) $"
   ]
  },
  {
   "cell_type": "markdown",
   "metadata": {},
   "source": [
    "##### unigrams  \n",
    "+ an, adorable, little, boy, is, spreading, smiles  \n",
    "\n",
    "##### bigrams  \n",
    "+ an adorable, adorable little, little boy, boy is, is spreading, spreading smiles  \n",
    "\n",
    "##### trigrams  \n",
    "+ an adorable little, adorable little boy, little boy is, boy is spreading, is spreading smiles  \n",
    "\n",
    "##### 4-grams  \n",
    "+ an adorable little boy, adorable little boy is, little boy is spreading, boy is spreading smiles"
   ]
  },
  {
   "cell_type": "markdown",
   "metadata": {},
   "source": [
    "#### 한계점  "
   ]
  },
  {
   "cell_type": "markdown",
   "metadata": {},
   "source": [
    "+ 여전히 sparsity problem 존재  \n",
    "+ n의 선택에 대한 trade-off (n=5를 넘게 잡아서는 안 된다고 권장)"
   ]
  }
 ],
 "metadata": {
  "kernelspec": {
   "display_name": "Python 3",
   "language": "python",
   "name": "python3"
  },
  "language_info": {
   "codemirror_mode": {
    "name": "ipython",
    "version": 3
   },
   "file_extension": ".py",
   "mimetype": "text/x-python",
   "name": "python",
   "nbconvert_exporter": "python",
   "pygments_lexer": "ipython3",
   "version": "3.8.3"
  }
 },
 "nbformat": 4,
 "nbformat_minor": 4
}
